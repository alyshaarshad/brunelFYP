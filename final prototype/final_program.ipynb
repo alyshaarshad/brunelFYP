{
 "cells": [
  {
   "cell_type": "code",
   "execution_count": 2,
   "metadata": {},
   "outputs": [
    {
     "name": "stderr",
     "output_type": "stream",
     "text": [
      "Using TensorFlow backend.\n"
     ]
    }
   ],
   "source": [
    "import re\n",
    "import pandas as pd\n",
    "from keras.models import load_model\n",
    "import numpy as np\n",
    "import pickle\n",
    "import json"
   ]
  },
  {
   "cell_type": "code",
   "execution_count": 87,
   "metadata": {},
   "outputs": [],
   "source": [
    "filepath = 'test_data/right.txt'   \n",
    "\n"
   ]
  },
  {
   "cell_type": "code",
   "execution_count": 88,
   "metadata": {},
   "outputs": [
    {
     "name": "stdout",
     "output_type": "stream",
     "text": [
      "287\n",
      "Data has been cleaned!\n",
      "Data has been saved into a dataframe!\n"
     ]
    },
    {
     "ename": "AttributeError",
     "evalue": "'list' object has no attribute 'shape'",
     "output_type": "error",
     "traceback": [
      "\u001b[0;31m---------------------------------------------------------------------------\u001b[0m",
      "\u001b[0;31mAttributeError\u001b[0m                            Traceback (most recent call last)",
      "\u001b[0;32m<ipython-input-88-9a59835b745f>\u001b[0m in \u001b[0;36m<module>\u001b[0;34m\u001b[0m\n\u001b[1;32m     12\u001b[0m \u001b[0;34m\u001b[0m\u001b[0m\n\u001b[1;32m     13\u001b[0m \u001b[0mmodel\u001b[0m\u001b[0;34m.\u001b[0m\u001b[0mcompile\u001b[0m\u001b[0;34m(\u001b[0m\u001b[0moptimizer\u001b[0m\u001b[0;34m=\u001b[0m\u001b[0;34m'adam'\u001b[0m\u001b[0;34m,\u001b[0m \u001b[0mloss\u001b[0m\u001b[0;34m=\u001b[0m\u001b[0;34m'binary_crossentropy'\u001b[0m\u001b[0;34m,\u001b[0m \u001b[0mmetrics\u001b[0m\u001b[0;34m=\u001b[0m\u001b[0;34m[\u001b[0m\u001b[0;34m'accuracy'\u001b[0m\u001b[0;34m]\u001b[0m\u001b[0;34m)\u001b[0m\u001b[0;34m\u001b[0m\u001b[0;34m\u001b[0m\u001b[0m\n\u001b[0;32m---> 14\u001b[0;31m \u001b[0mclasses\u001b[0m \u001b[0;34m=\u001b[0m \u001b[0mmodel\u001b[0m\u001b[0;34m.\u001b[0m\u001b[0mpredict_classes\u001b[0m\u001b[0;34m(\u001b[0m\u001b[0mdfObj\u001b[0m\u001b[0;34m,\u001b[0m \u001b[0mbatch_size\u001b[0m\u001b[0;34m=\u001b[0m\u001b[0;36m5\u001b[0m\u001b[0;34m)\u001b[0m\u001b[0;34m\u001b[0m\u001b[0;34m\u001b[0m\u001b[0m\n\u001b[0m\u001b[1;32m     15\u001b[0m \u001b[0mprobability\u001b[0m \u001b[0;34m=\u001b[0m \u001b[0mmodel\u001b[0m\u001b[0;34m.\u001b[0m\u001b[0mpredict\u001b[0m\u001b[0;34m(\u001b[0m\u001b[0mdfObj\u001b[0m\u001b[0;34m,\u001b[0m\u001b[0mbatch_size\u001b[0m\u001b[0;34m=\u001b[0m\u001b[0;36m5\u001b[0m\u001b[0;34m)\u001b[0m\u001b[0;34m\u001b[0m\u001b[0;34m\u001b[0m\u001b[0m\n\u001b[1;32m     16\u001b[0m \u001b[0;34m\u001b[0m\u001b[0m\n",
      "\u001b[0;32m/opt/anaconda3/lib/python3.7/site-packages/keras/engine/sequential.py\u001b[0m in \u001b[0;36mpredict_classes\u001b[0;34m(self, x, batch_size, verbose)\u001b[0m\n\u001b[1;32m    267\u001b[0m         \"\"\"\n\u001b[1;32m    268\u001b[0m         \u001b[0mproba\u001b[0m \u001b[0;34m=\u001b[0m \u001b[0mself\u001b[0m\u001b[0;34m.\u001b[0m\u001b[0mpredict\u001b[0m\u001b[0;34m(\u001b[0m\u001b[0mx\u001b[0m\u001b[0;34m,\u001b[0m \u001b[0mbatch_size\u001b[0m\u001b[0;34m=\u001b[0m\u001b[0mbatch_size\u001b[0m\u001b[0;34m,\u001b[0m \u001b[0mverbose\u001b[0m\u001b[0;34m=\u001b[0m\u001b[0mverbose\u001b[0m\u001b[0;34m)\u001b[0m\u001b[0;34m\u001b[0m\u001b[0;34m\u001b[0m\u001b[0m\n\u001b[0;32m--> 269\u001b[0;31m         \u001b[0;32mif\u001b[0m \u001b[0mproba\u001b[0m\u001b[0;34m.\u001b[0m\u001b[0mshape\u001b[0m\u001b[0;34m[\u001b[0m\u001b[0;34m-\u001b[0m\u001b[0;36m1\u001b[0m\u001b[0;34m]\u001b[0m \u001b[0;34m>\u001b[0m \u001b[0;36m1\u001b[0m\u001b[0;34m:\u001b[0m\u001b[0;34m\u001b[0m\u001b[0;34m\u001b[0m\u001b[0m\n\u001b[0m\u001b[1;32m    270\u001b[0m             \u001b[0;32mreturn\u001b[0m \u001b[0mproba\u001b[0m\u001b[0;34m.\u001b[0m\u001b[0margmax\u001b[0m\u001b[0;34m(\u001b[0m\u001b[0maxis\u001b[0m\u001b[0;34m=\u001b[0m\u001b[0;34m-\u001b[0m\u001b[0;36m1\u001b[0m\u001b[0;34m)\u001b[0m\u001b[0;34m\u001b[0m\u001b[0;34m\u001b[0m\u001b[0m\n\u001b[1;32m    271\u001b[0m         \u001b[0;32melse\u001b[0m\u001b[0;34m:\u001b[0m\u001b[0;34m\u001b[0m\u001b[0;34m\u001b[0m\u001b[0m\n",
      "\u001b[0;31mAttributeError\u001b[0m: 'list' object has no attribute 'shape'"
     ]
    }
   ],
   "source": [
    "clean_data = cleandata(filepath)\n",
    "lines , data = jaw_clench_lines(clean_data)\n",
    "final_array = useless_data_removal(data, lines, filepath)\n",
    "\n",
    "print(\"Data has been cleaned!\")\n",
    "\n",
    "dfObj = pd.DataFrame(final_array, columns = ['Alpha_1','Alpha_2','Alpha_3','Alpha_4','Beta_1','Beta_2','Beta_3','Beta_4','Delta_1','Delta_2','Delta_3','Delta_4','Theta_1','Theta_2','Theta_3','Theta_4','Gamma_1','Gamma_2','Gamma_3','Gamma_4'])\n",
    "print('Data has been saved into a dataframe!')\n",
    "#print(dfObj)\n",
    "\n",
    "model = load_model('model.h5')\n",
    "\n",
    "model.compile(optimizer='adam', loss='binary_crossentropy', metrics=['accuracy'])\n",
    "classes = model.predict_classes(dfObj, batch_size=5)\n",
    "probability = model.predict(dfObj,batch_size=5)\n",
    "\n",
    "\n",
    "\n",
    "\n",
    "with open('rf_model.pkl', 'rb') as f:\n",
    "    rf = pickle.load(f)\n",
    "    \n",
    "    rf_preds = rf.predict(dfObj)\n",
    "    \n",
    "\n",
    "with open('svm_model.pkl', 'rb') as f:\n",
    "    svm = pickle.load(f)\n",
    "    \n",
    "    svm_preds = svm.predict(dfObj)\n",
    "    \n",
    "    \n",
    "print('predictions from Neural Network: ', classes)\n",
    "print('predictions from Random Forest: ', rf_preds)\n",
    "#print('predictions from SVM: ', svm_preds)\n",
    "\n",
    "\n",
    "results(classes, rf_preds, svm_preds, dfObj)\n"
   ]
  },
  {
   "cell_type": "code",
   "execution_count": null,
   "metadata": {},
   "outputs": [],
   "source": []
  },
  {
   "cell_type": "code",
   "execution_count": 4,
   "metadata": {},
   "outputs": [],
   "source": [
    "def cleandata(filepath):\n",
    "    with open(filepath, 'r') as f2:\n",
    "                raw_data = f2.read()\n",
    "                clean_data = raw_data.replace(\"[8000]\", \"\\n\")\n",
    "                \n",
    "    return clean_data"
   ]
  },
  {
   "cell_type": "code",
   "execution_count": 5,
   "metadata": {},
   "outputs": [],
   "source": [
    "def jaw_clench_lines(clean_data):\n",
    "    \n",
    "    lines = []\n",
    "    data = clean_data.split('\\n') #split string into a list\n",
    "    for i,temp in enumerate(data):\n",
    "        if 'jaw_clench' in temp:\n",
    "            #print(i)\n",
    "            lines.append(i)\n",
    "            \n",
    "    \n",
    "    print(len(data))\n",
    "            \n",
    "            \n",
    "    return lines, data"
   ]
  },
  {
   "cell_type": "code",
   "execution_count": 6,
   "metadata": {},
   "outputs": [],
   "source": [
    "def useless_data_removal(data,lines, filepath):\n",
    "    \n",
    "    N = 20\n",
    "    \n",
    "    #del data[(lines[2]):]\n",
    "    del data[:lines[1]]\n",
    "            \n",
    " \n",
    "            \n",
    "    gh = \"\\n\".join([str(elem) for elem in data])\n",
    "    \n",
    "    data = gh.replace(\"-∞\", \"0.00\")                 \n",
    "    data = re.findall(\"\\d+\\.\\d+\", data)\n",
    "    \n",
    "   \n",
    "    subList = [data[n:n+N] for n in range(0, len(data), N)]\n",
    "    \n",
    "    return subList"
   ]
  },
  {
   "cell_type": "code",
   "execution_count": 66,
   "metadata": {},
   "outputs": [],
   "source": [
    "def results(classes, rf_preds , svm_preds, dfObj):\n",
    "    \n",
    "    #counts the number of 1s (left predictions)\n",
    "    left = np.count_nonzero(classes == 1)  + np.count_nonzero(rf_preds == 1) \n",
    "    #counts the number of 0s (right predictions)\n",
    "    right = np.count_nonzero(classes == 0)  + np.count_nonzero(rf_preds == 0)\n",
    "    length = len(dfObj) #length of the dataset\n",
    "    accuracy_left = left / (length*2) # average score for left\n",
    "    accuracy_right = right /(length*2)# average score for right\n",
    "    \n",
    "    print(\"percentage prediction for Left is \", accuracy_left)\n",
    "    print(\"percentage prediction for Right is \", accuracy_right)\n",
    "    \n",
    "    with open('direction.json' , 'w') as g:\n",
    "        if accuracy_left > 0.6: #if the accuracy is above 60% then save the direction as L to the json \n",
    "            json.dump('L' , g)\n",
    "            print('The direction predicted is : Left')\n",
    "        elif accuracy_right > 0.6:#if the accuracy is above 60% then save the direction as R to the json\n",
    "            json.dump('R' , g)\n",
    "            print('The direction predicted is : Right')"
   ]
  },
  {
   "cell_type": "code",
   "execution_count": 24,
   "metadata": {},
   "outputs": [
    {
     "data": {
      "text/plain": [
       "12"
      ]
     },
     "execution_count": 24,
     "metadata": {},
     "output_type": "execute_result"
    }
   ],
   "source": [
    "np.count_nonzero(classes == 0) + np.count_nonzero(rf_preds == 0)"
   ]
  },
  {
   "cell_type": "code",
   "execution_count": 70,
   "metadata": {},
   "outputs": [
    {
     "data": {
      "text/plain": [
       "49"
      ]
     },
     "execution_count": 70,
     "metadata": {},
     "output_type": "execute_result"
    }
   ],
   "source": [
    "len(dfObj)"
   ]
  },
  {
   "cell_type": "code",
   "execution_count": 77,
   "metadata": {},
   "outputs": [
    {
     "name": "stdout",
     "output_type": "stream",
     "text": [
      "38 7\n"
     ]
    }
   ],
   "source": [
    "nn_left = np.count_nonzero(classes == 1) #count for predicted left NN\n",
    "nn_right = np.count_nonzero(classes == 0)#count for predicted right NN\n",
    "\n",
    "print(nn_left,nn_right)\n"
   ]
  },
  {
   "cell_type": "code",
   "execution_count": 80,
   "metadata": {},
   "outputs": [
    {
     "name": "stdout",
     "output_type": "stream",
     "text": [
      "4 41\n"
     ]
    }
   ],
   "source": [
    "rf_left = np.count_nonzero(rf_preds == 1) #count for predicted left rf\n",
    "rf_right = np.count_nonzero(rf_preds == 0)#count for predicted right rf\n",
    "\n",
    "print(rf_left,rf_right)"
   ]
  },
  {
   "cell_type": "code",
   "execution_count": null,
   "metadata": {},
   "outputs": [],
   "source": []
  }
 ],
 "metadata": {
  "file_extension": ".py",
  "kernelspec": {
   "display_name": "Python 3",
   "language": "python",
   "name": "python3"
  },
  "language_info": {
   "codemirror_mode": {
    "name": "ipython",
    "version": 3
   },
   "file_extension": ".py",
   "mimetype": "text/x-python",
   "name": "python",
   "nbconvert_exporter": "python",
   "pygments_lexer": "ipython3",
   "version": "3.7.4"
  },
  "mimetype": "text/x-python",
  "name": "python",
  "npconvert_exporter": "python",
  "pygments_lexer": "ipython3",
  "version": 3
 },
 "nbformat": 4,
 "nbformat_minor": 2
}
