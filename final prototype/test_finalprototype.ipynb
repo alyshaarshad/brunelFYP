{
 "cells": [
  {
   "cell_type": "code",
   "execution_count": 2,
   "metadata": {},
   "outputs": [
    {
     "name": "stderr",
     "output_type": "stream",
     "text": [
      "Using TensorFlow backend.\n"
     ]
    }
   ],
   "source": [
    "import re\n",
    "import pandas as pd\n",
    "from keras.models import load_model\n",
    "import numpy as np\n",
    "import pickle\n",
    "import json\n",
    "import os"
   ]
  },
  {
   "cell_type": "code",
   "execution_count": 89,
   "metadata": {},
   "outputs": [],
   "source": [
    "filename = []\n",
    "actual_result = []\n",
    "probability_left = []\n",
    "probability_right = []\n",
    "outcome = []"
   ]
  },
  {
   "cell_type": "code",
   "execution_count": 90,
   "metadata": {},
   "outputs": [
    {
     "name": "stdout",
     "output_type": "stream",
     "text": [
      "\n",
      "test_data/lookright.txt\n",
      "1871\n",
      "Data has been cleaned!\n",
      "Data has been saved into a dataframe!\n",
      "percentage prediction for Left is  0.1326530612244898\n",
      "percentage prediction for Right is  0.8673469387755102\n",
      "The direction predicted is : Right\n",
      "\n",
      "test_data/clap4.txt\n",
      "766\n",
      "Data has been cleaned!\n",
      "Data has been saved into a dataframe!\n",
      "percentage prediction for Left is  0.4017857142857143\n",
      "percentage prediction for Right is  0.5982142857142857\n",
      "\n",
      "test_data/clap3.txt\n",
      "815\n",
      "Data has been cleaned!\n",
      "Data has been saved into a dataframe!\n",
      "percentage prediction for Left is  0.453125\n",
      "percentage prediction for Right is  0.546875\n",
      "\n",
      "test_data/clap.txt\n",
      "906\n",
      "Data has been cleaned!\n",
      "Data has been saved into a dataframe!\n",
      "percentage prediction for Left is  0.4666666666666667\n",
      "percentage prediction for Right is  0.5333333333333333\n",
      "\n",
      "test_data/clap2.txt\n",
      "850\n",
      "Data has been cleaned!\n",
      "Data has been saved into a dataframe!\n",
      "percentage prediction for Left is  0.0\n",
      "percentage prediction for Right is  1.0\n",
      "The direction predicted is : Right\n",
      "\n",
      "test_data/clap1.txt\n",
      "1289\n",
      "Data has been cleaned!\n",
      "Data has been saved into a dataframe!\n",
      "percentage prediction for Left is  0.33783783783783783\n",
      "percentage prediction for Right is  0.6621621621621622\n",
      "The direction predicted is : Right\n",
      "\n",
      "test_data/lookright1.txt\n",
      "909\n",
      "Data has been cleaned!\n",
      "Data has been saved into a dataframe!\n",
      "percentage prediction for Left is  0.4915254237288136\n",
      "percentage prediction for Right is  0.5084745762711864\n",
      "\n",
      "test_data/lookright2.txt\n",
      "869\n",
      "Data has been cleaned!\n",
      "Data has been saved into a dataframe!\n",
      "percentage prediction for Left is  0.0\n",
      "percentage prediction for Right is  1.0\n",
      "The direction predicted is : Right\n",
      "\n",
      "test_data/lookright3.txt\n",
      "822\n",
      "Data has been cleaned!\n",
      "Data has been saved into a dataframe!\n",
      "percentage prediction for Left is  0.009615384615384616\n",
      "percentage prediction for Right is  0.9903846153846154\n",
      "The direction predicted is : Right\n",
      "\n",
      "test_data/lookright4.txt\n",
      "690\n",
      "Data has been cleaned!\n",
      "Data has been saved into a dataframe!\n",
      "percentage prediction for Left is  0.07627118644067797\n",
      "percentage prediction for Right is  0.923728813559322\n",
      "The direction predicted is : Right\n"
     ]
    }
   ],
   "source": [
    "\n",
    "for subdir, dirs, files in os.walk(\"test_data\"):\n",
    "    for file in files:\n",
    "        filepath = subdir + os.sep + file\n",
    "        print()\n",
    "        \n",
    "        filename.append(file)\n",
    "        print(filepath)\n",
    "        \n",
    "        if 'clap' in filepath:\n",
    "            actual_result.append('left')\n",
    "        else:\n",
    "            actual_result.append('right')\n",
    "            \n",
    "        \n",
    "        clean_data = cleandata(filepath)\n",
    "        lines , data = jaw_clench_lines(clean_data)\n",
    "        final_array = useless_data_removal(data, lines, filepath)\n",
    "\n",
    "        print(\"Data has been cleaned!\")\n",
    "\n",
    "        dfObj = pd.DataFrame(final_array, columns = ['Alpha_1','Alpha_2','Alpha_3','Alpha_4','Beta_1','Beta_2','Beta_3','Beta_4','Delta_1','Delta_2','Delta_3','Delta_4','Theta_1','Theta_2','Theta_3','Theta_4','Gamma_1','Gamma_2','Gamma_3','Gamma_4'])\n",
    "        print('Data has been saved into a dataframe!')\n",
    "        #print(dfObj)\n",
    "\n",
    "        model = load_model('model.h5')\n",
    "\n",
    "        model.compile(optimizer='adam', loss='binary_crossentropy', metrics=['accuracy'])\n",
    "        classes = model.predict_classes(dfObj, batch_size=5)\n",
    "        probability = model.predict(dfObj,batch_size=5)\n",
    "\n",
    "\n",
    "\n",
    "\n",
    "        with open('rf_model.pkl', 'rb') as f:\n",
    "            rf = pickle.load(f)\n",
    "\n",
    "            rf_preds = rf.predict(dfObj)\n",
    "\n",
    "\n",
    "        with open('svm_model.pkl', 'rb') as f:\n",
    "            svm = pickle.load(f)\n",
    "\n",
    "            svm_preds = svm.predict(dfObj)\n",
    "\n",
    "\n",
    "        #print('predictions from Neural Network: ', classes)\n",
    "        #print('predictions from Random Forest: ', rf_preds)\n",
    "        #print('predictions from SVM: ', svm_preds)\n",
    "\n",
    "\n",
    "        left, right, result = results(classes, rf_preds, svm_preds, dfObj)\n",
    "        \n",
    "        probability_left.append(left)\n",
    "        probability_right.append(right)\n",
    "        outcome.append(result)\n"
   ]
  },
  {
   "cell_type": "code",
   "execution_count": null,
   "metadata": {},
   "outputs": [],
   "source": []
  },
  {
   "cell_type": "code",
   "execution_count": 5,
   "metadata": {},
   "outputs": [],
   "source": [
    "def cleandata(filepath):\n",
    "    with open(filepath, 'r') as f2:\n",
    "                raw_data = f2.read()\n",
    "                clean_data = raw_data.replace(\"[8000]\", \"\\n\")\n",
    "                \n",
    "    return clean_data"
   ]
  },
  {
   "cell_type": "code",
   "execution_count": 6,
   "metadata": {},
   "outputs": [],
   "source": [
    "def jaw_clench_lines(clean_data):\n",
    "    \n",
    "    lines = []\n",
    "    data = clean_data.split('\\n') #split string into a list\n",
    "    for i,temp in enumerate(data):\n",
    "        if 'jaw_clench' in temp:\n",
    "            #print(i)\n",
    "            lines.append(i)\n",
    "            \n",
    "    \n",
    "    print(len(data))\n",
    "            \n",
    "            \n",
    "    return lines, data"
   ]
  },
  {
   "cell_type": "code",
   "execution_count": 7,
   "metadata": {},
   "outputs": [],
   "source": [
    "def useless_data_removal(data,lines, filepath):\n",
    "    \n",
    "    N = 20\n",
    "    \n",
    "    #del data[(lines[2]):]\n",
    "    del data[:lines[1]]\n",
    "            \n",
    " \n",
    "            \n",
    "    gh = \"\\n\".join([str(elem) for elem in data])\n",
    "    \n",
    "    data = gh.replace(\"-∞\", \"0.00\")                 \n",
    "    data = re.findall(\"\\d+\\.\\d+\", data)\n",
    "    \n",
    "   \n",
    "    subList = [data[n:n+N] for n in range(0, len(data), N)]\n",
    "    \n",
    "    return subList"
   ]
  },
  {
   "cell_type": "code",
   "execution_count": 87,
   "metadata": {},
   "outputs": [],
   "source": [
    "\n",
    "def results(classes, rf_preds , svm_preds, dfObj):\n",
    "    \n",
    "    #counts the number of 1s (left predictions)\n",
    "    left = np.count_nonzero(classes == 1)  + np.count_nonzero(rf_preds == 1) \n",
    "    #counts the number of 0s (right predictions)\n",
    "    right = np.count_nonzero(classes == 0)  + np.count_nonzero(rf_preds == 0)\n",
    "    length = len(dfObj) #length of the dataset\n",
    "    accuracy_left = left / (length*2) # average score for left\n",
    "    accuracy_right = right /(length*2)# average score for right\n",
    "    \n",
    "    print(\"percentage prediction for Left is \", accuracy_left)\n",
    "    print(\"percentage prediction for Right is \", accuracy_right)\n",
    "    \n",
    "    if accuracy_left > 0.6: #if the accuracy is above 60% then save the direction as L to the json \n",
    "        print('The direction predicted is : Left')\n",
    "        result = 'left'\n",
    "    elif accuracy_right > 0.6: #if the accuracy is above 60% then save the direction as R to the json\n",
    "        print('The direction predicted is : Right')\n",
    "        result = 'right'\n",
    "    else:\n",
    "        result = 'No decision'\n",
    "        \n",
    "    return accuracy_left , accuracy_right , result\n"
   ]
  },
  {
   "cell_type": "code",
   "execution_count": 91,
   "metadata": {},
   "outputs": [],
   "source": [
    "import numpy as np\n",
    "\n",
    "h = list(zip(filename , probability_left , probability_right, actual_result, outcome))\n"
   ]
  },
  {
   "cell_type": "code",
   "execution_count": 92,
   "metadata": {},
   "outputs": [
    {
     "data": {
      "text/plain": [
       "[('lookright.txt', 0.1326530612244898, 0.8673469387755102, 'right', 'right'),\n",
       " ('clap4.txt', 0.4017857142857143, 0.5982142857142857, 'left', 'No decision'),\n",
       " ('clap3.txt', 0.453125, 0.546875, 'left', 'No decision'),\n",
       " ('clap.txt', 0.4666666666666667, 0.5333333333333333, 'left', 'No decision'),\n",
       " ('clap2.txt', 0.0, 1.0, 'left', 'right'),\n",
       " ('clap1.txt', 0.33783783783783783, 0.6621621621621622, 'left', 'right'),\n",
       " ('lookright1.txt',\n",
       "  0.4915254237288136,\n",
       "  0.5084745762711864,\n",
       "  'right',\n",
       "  'No decision'),\n",
       " ('lookright2.txt', 0.0, 1.0, 'right', 'right'),\n",
       " ('lookright3.txt',\n",
       "  0.009615384615384616,\n",
       "  0.9903846153846154,\n",
       "  'right',\n",
       "  'right'),\n",
       " ('lookright4.txt', 0.07627118644067797, 0.923728813559322, 'right', 'right')]"
      ]
     },
     "execution_count": 92,
     "metadata": {},
     "output_type": "execute_result"
    }
   ],
   "source": [
    "h"
   ]
  },
  {
   "cell_type": "code",
   "execution_count": 93,
   "metadata": {},
   "outputs": [
    {
     "name": "stdout",
     "output_type": "stream",
     "text": [
      "+----------------+--------------------+---------------------+--------------------+------------------+\n",
      "| Datasets       |   Probability Left |   Probability Right | Expected_outcome   | Actual_Outcome   |\n",
      "+================+====================+=====================+====================+==================+\n",
      "| lookright.txt  |         0.132653   |            0.867347 | right              | right            |\n",
      "+----------------+--------------------+---------------------+--------------------+------------------+\n",
      "| clap4.txt      |         0.401786   |            0.598214 | left               | No decision      |\n",
      "+----------------+--------------------+---------------------+--------------------+------------------+\n",
      "| clap3.txt      |         0.453125   |            0.546875 | left               | No decision      |\n",
      "+----------------+--------------------+---------------------+--------------------+------------------+\n",
      "| clap.txt       |         0.466667   |            0.533333 | left               | No decision      |\n",
      "+----------------+--------------------+---------------------+--------------------+------------------+\n",
      "| clap2.txt      |         0          |            1        | left               | right            |\n",
      "+----------------+--------------------+---------------------+--------------------+------------------+\n",
      "| clap1.txt      |         0.337838   |            0.662162 | left               | right            |\n",
      "+----------------+--------------------+---------------------+--------------------+------------------+\n",
      "| lookright1.txt |         0.491525   |            0.508475 | right              | No decision      |\n",
      "+----------------+--------------------+---------------------+--------------------+------------------+\n",
      "| lookright2.txt |         0          |            1        | right              | right            |\n",
      "+----------------+--------------------+---------------------+--------------------+------------------+\n",
      "| lookright3.txt |         0.00961538 |            0.990385 | right              | right            |\n",
      "+----------------+--------------------+---------------------+--------------------+------------------+\n",
      "| lookright4.txt |         0.0762712  |            0.923729 | right              | right            |\n",
      "+----------------+--------------------+---------------------+--------------------+------------------+\n"
     ]
    }
   ],
   "source": [
    "from tabulate import tabulate\n",
    "\n",
    "\n",
    "headers = [\"Datasets\", \"Probability Left\", \"Probability Right\", \"Expected_outcome\" , \"Actual_Outcome\"]\n",
    "\n",
    "# tabulate data\n",
    "table = tabulate(h, headers, tablefmt=\"grid\")\n",
    "\n",
    "# output\n",
    "print(table)"
   ]
  },
  {
   "cell_type": "code",
   "execution_count": null,
   "metadata": {},
   "outputs": [],
   "source": []
  },
  {
   "cell_type": "code",
   "execution_count": null,
   "metadata": {},
   "outputs": [],
   "source": []
  }
 ],
 "metadata": {
  "file_extension": ".py",
  "kernelspec": {
   "display_name": "Python 3",
   "language": "python",
   "name": "python3"
  },
  "language_info": {
   "codemirror_mode": {
    "name": "ipython",
    "version": 3
   },
   "file_extension": ".py",
   "mimetype": "text/x-python",
   "name": "python",
   "nbconvert_exporter": "python",
   "pygments_lexer": "ipython3",
   "version": "3.7.4"
  },
  "mimetype": "text/x-python",
  "name": "python",
  "npconvert_exporter": "python",
  "pygments_lexer": "ipython3",
  "version": 3
 },
 "nbformat": 4,
 "nbformat_minor": 2
}
