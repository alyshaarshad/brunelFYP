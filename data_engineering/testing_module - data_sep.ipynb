{
 "cells": [
  {
   "cell_type": "code",
   "execution_count": 19,
   "metadata": {},
   "outputs": [],
   "source": [
    "def jaw_clench_lines(clean_data):\n",
    "    \n",
    "    lines = []\n",
    "    data = clean_data.split('\\n') #split string into a list\n",
    "    for i,temp in enumerate(data):\n",
    "        if 'jaw_clench' in temp:\n",
    "            #print(i)\n",
    "            lines.append(i)\n",
    "            \n",
    "    \n",
    "            \n",
    "            \n",
    "    return lines, data        "
   ]
  },
  {
   "cell_type": "code",
   "execution_count": 21,
   "metadata": {},
   "outputs": [],
   "source": [
    "import re\n",
    "temp = []\n",
    "\n",
    "with open (\"test_data_file.txt\") as f:\n",
    "    test = f.read()\n",
    "    \n",
    "lines, data_list = jaw_clench_lines(test)\n",
    "                \n",
    "data_list = [x for x in data_list if \"jaw_clench\" not in x]\n",
    "\n",
    "    \n"
   ]
  },
  {
   "cell_type": "code",
   "execution_count": 24,
   "metadata": {},
   "outputs": [
    {
     "name": "stdout",
     "output_type": "stream",
     "text": [
      "[' /muse/elements/alpha_absolute 0.574 (float) 0.508 (float) -0.237 (float) 0.021 (float),', ' /muse/elements/beta_absolute 0.583 (float) -0.545 (float) -0.550 (float) -0.183 (float),', ' /muse/elements/delta_absolute 1.098 (float) 0.842 (float) 0.424 (float) 0.274 (float),', ' /muse/elements/theta_absolute 0.612 (float) 0.572 (float) -0.055 (float) -0.377 (float),', ' /muse/elements/gamma_absolute -0.030 (float) -0.600 (float) -0.860 (float) -0.375 (float),']\n"
     ]
    }
   ],
   "source": [
    "N = 5 # setting the number to group by\n",
    "subList = [data_list[n:n+N] for n in range(0, len(data_list), N)] #grouping the test data into arrays of 5 strings\n",
    "print(subList[0])"
   ]
  },
  {
   "cell_type": "code",
   "execution_count": 61,
   "metadata": {},
   "outputs": [],
   "source": [
    "def join_strings(example):\n",
    "    joint_string = ''.join(map(str, each)) #joins the string in the array together\n",
    "    print(joint_string)\n",
    "    return joint_string"
   ]
  },
  {
   "cell_type": "code",
   "execution_count": 62,
   "metadata": {},
   "outputs": [
    {
     "name": "stdout",
     "output_type": "stream",
     "text": [
      " /muse/elements/alpha_absolute 0.574 (float) 0.508 (float) -0.237 (float) 0.021 (float), /muse/elements/beta_absolute 0.583 (float) -0.545 (float) -0.550 (float) -0.183 (float), /muse/elements/delta_absolute 1.098 (float) 0.842 (float) 0.424 (float) 0.274 (float), /muse/elements/theta_absolute 0.612 (float) 0.572 (float) -0.055 (float) -0.377 (float), /muse/elements/gamma_absolute -0.030 (float) -0.600 (float) -0.860 (float) -0.375 (float),\n"
     ]
    }
   ],
   "source": [
    "joint_string = join_strings(example)\n"
   ]
  },
  {
   "cell_type": "code",
   "execution_count": 63,
   "metadata": {},
   "outputs": [],
   "source": [
    "def replace_symbols(joint_string):\n",
    "    data_no_symbols = joint_string.replace(\"-∞\", \"0.00\") #replaces the symbols in the string\n",
    "    print( data_no_symbols)\n",
    "    return data_no_symbols"
   ]
  },
  {
   "cell_type": "code",
   "execution_count": 64,
   "metadata": {},
   "outputs": [
    {
     "name": "stdout",
     "output_type": "stream",
     "text": [
      " /muse/elements/alpha_absolute 0.574 (float) 0.508 (float) -0.237 (float) 0.021 (float), /muse/elements/beta_absolute 0.583 (float) -0.545 (float) -0.550 (float) -0.183 (float), /muse/elements/delta_absolute 1.098 (float) 0.842 (float) 0.424 (float) 0.274 (float), /muse/elements/theta_absolute 0.612 (float) 0.572 (float) -0.055 (float) -0.377 (float), /muse/elements/gamma_absolute -0.030 (float) -0.600 (float) -0.860 (float) -0.375 (float),\n"
     ]
    }
   ],
   "source": [
    "data_no_symbols = replace_symbols(joint_string)"
   ]
  },
  {
   "cell_type": "code",
   "execution_count": 65,
   "metadata": {},
   "outputs": [],
   "source": [
    "def extract_floats (data_no_symbols):\n",
    "    extracted_floats = re.findall(\"\\d+\\.\\d+\",data_no_symbols) #extracts the floats\n",
    "    print( extracted_floats)\n",
    "    return extracted_floats"
   ]
  },
  {
   "cell_type": "code",
   "execution_count": 66,
   "metadata": {},
   "outputs": [
    {
     "name": "stdout",
     "output_type": "stream",
     "text": [
      "['0.574', '0.508', '0.237', '0.021', '0.583', '0.545', '0.550', '0.183', '1.098', '0.842', '0.424', '0.274', '0.612', '0.572', '0.055', '0.377', '0.030', '0.600', '0.860', '0.375']\n"
     ]
    },
    {
     "data": {
      "text/plain": [
       "['0.574',\n",
       " '0.508',\n",
       " '0.237',\n",
       " '0.021',\n",
       " '0.583',\n",
       " '0.545',\n",
       " '0.550',\n",
       " '0.183',\n",
       " '1.098',\n",
       " '0.842',\n",
       " '0.424',\n",
       " '0.274',\n",
       " '0.612',\n",
       " '0.572',\n",
       " '0.055',\n",
       " '0.377',\n",
       " '0.030',\n",
       " '0.600',\n",
       " '0.860',\n",
       " '0.375']"
      ]
     },
     "execution_count": 66,
     "metadata": {},
     "output_type": "execute_result"
    }
   ],
   "source": [
    "extract_floats(data_no_symbols)"
   ]
  },
  {
   "cell_type": "code",
   "execution_count": 92,
   "metadata": {},
   "outputs": [
    {
     "ename": "TypeError",
     "evalue": "'float' object cannot be interpreted as an integer",
     "output_type": "error",
     "traceback": [
      "\u001b[0;31m---------------------------------------------------------------------------\u001b[0m",
      "\u001b[0;31mTypeError\u001b[0m                                 Traceback (most recent call last)",
      "\u001b[0;32m<ipython-input-92-32dc4d799364>\u001b[0m in \u001b[0;36m<module>\u001b[0;34m\u001b[0m\n\u001b[1;32m      1\u001b[0m \u001b[0mN\u001b[0m \u001b[0;34m=\u001b[0m \u001b[0;36m3.2\u001b[0m\u001b[0;34m\u001b[0m\u001b[0;34m\u001b[0m\u001b[0m\n\u001b[0;32m----> 2\u001b[0;31m \u001b[0msubList\u001b[0m \u001b[0;34m=\u001b[0m \u001b[0;34m[\u001b[0m\u001b[0mdata_list\u001b[0m\u001b[0;34m[\u001b[0m\u001b[0mn\u001b[0m\u001b[0;34m:\u001b[0m\u001b[0mn\u001b[0m\u001b[0;34m+\u001b[0m\u001b[0mN\u001b[0m\u001b[0;34m]\u001b[0m \u001b[0;32mfor\u001b[0m \u001b[0mn\u001b[0m \u001b[0;32min\u001b[0m \u001b[0mrange\u001b[0m\u001b[0;34m(\u001b[0m\u001b[0;36m0\u001b[0m\u001b[0;34m,\u001b[0m \u001b[0mlen\u001b[0m\u001b[0;34m(\u001b[0m\u001b[0mdata_list\u001b[0m\u001b[0;34m)\u001b[0m\u001b[0;34m,\u001b[0m \u001b[0mN\u001b[0m\u001b[0;34m)\u001b[0m\u001b[0;34m]\u001b[0m\u001b[0;34m\u001b[0m\u001b[0;34m\u001b[0m\u001b[0m\n\u001b[0m\u001b[1;32m      3\u001b[0m \u001b[0mprint\u001b[0m\u001b[0;34m(\u001b[0m\u001b[0;34m'grouped data:'\u001b[0m\u001b[0;34m,\u001b[0m \u001b[0msubList\u001b[0m\u001b[0;34m[\u001b[0m\u001b[0;36m0\u001b[0m\u001b[0;34m]\u001b[0m\u001b[0;34m)\u001b[0m\u001b[0;34m\u001b[0m\u001b[0;34m\u001b[0m\u001b[0m\n\u001b[1;32m      4\u001b[0m \u001b[0;34m\u001b[0m\u001b[0m\n\u001b[1;32m      5\u001b[0m \u001b[0;34m\u001b[0m\u001b[0m\n",
      "\u001b[0;31mTypeError\u001b[0m: 'float' object cannot be interpreted as an integer"
     ]
    }
   ],
   "source": [
    "N = 3.2\n",
    "subList = [data_list[n:n+N] for n in range(0, len(data_list), N)]\n",
    "print('grouped data:', subList[0])\n",
    "\n",
    "\n",
    "for each in subList:\n",
    "    \n",
    "    joint_strings = ''.join(map(str, each))\n",
    "    data_no_symbols = joint_strings.replace(\"-∞\", \"0.00\")\n",
    "    \n",
    "    extracted_floats = re.findall(\"\\d+\\.\\d+\", data_no_symbols)\n",
    "    \n",
    "    print()\n",
    "    print('extracted floats:', extracted_floats)\n",
    "    print()\n",
    "    print('length of array:', len(extracted_floats))\n"
   ]
  },
  {
   "cell_type": "code",
   "execution_count": null,
   "metadata": {},
   "outputs": [],
   "source": []
  }
 ],
 "metadata": {
  "kernelspec": {
   "display_name": "Python 3",
   "language": "python",
   "name": "python3"
  },
  "language_info": {
   "codemirror_mode": {
    "name": "ipython",
    "version": 3
   },
   "file_extension": ".py",
   "mimetype": "text/x-python",
   "name": "python",
   "nbconvert_exporter": "python",
   "pygments_lexer": "ipython3",
   "version": "3.7.4"
  }
 },
 "nbformat": 4,
 "nbformat_minor": 2
}
