{
 "cells": [
  {
   "cell_type": "code",
   "execution_count": 88,
   "metadata": {},
   "outputs": [],
   "source": [
    "import pickle\n",
    "import pandas as pd\n",
    "from sklearn.preprocessing import binarize\n",
    "import numpy as np\n",
    "from sklearn.metrics import confusion_matrix\n",
    "import json"
   ]
  },
  {
   "cell_type": "code",
   "execution_count": 20,
   "metadata": {},
   "outputs": [],
   "source": [
    "stimuli_dataset = \"processed_paired_stimuli/4_10.csv\"\n",
    "\n",
    "stimuli_data = pd.read_csv(stimuli_dataset,sep=\",\",index_col=0)\n",
    "stimuli_1 , stimuli_2 = stimuli_data['slideNumber'].unique()\n",
    "        \n",
    "X = stimuli_data.iloc[:, :-2]\n",
    "Y = stimuli_data.iloc[:, -1:]\n",
    "Y = pd.DataFrame(binarize(Y, threshold=stimuli_1, copy=True))\n"
   ]
  },
  {
   "cell_type": "code",
   "execution_count": 30,
   "metadata": {},
   "outputs": [
    {
     "data": {
      "text/html": [
       "<div>\n",
       "<style scoped>\n",
       "    .dataframe tbody tr th:only-of-type {\n",
       "        vertical-align: middle;\n",
       "    }\n",
       "\n",
       "    .dataframe tbody tr th {\n",
       "        vertical-align: top;\n",
       "    }\n",
       "\n",
       "    .dataframe thead th {\n",
       "        text-align: right;\n",
       "    }\n",
       "</style>\n",
       "<table border=\"1\" class=\"dataframe\">\n",
       "  <thead>\n",
       "    <tr style=\"text-align: right;\">\n",
       "      <th></th>\n",
       "      <th>0</th>\n",
       "    </tr>\n",
       "  </thead>\n",
       "  <tbody>\n",
       "    <tr>\n",
       "      <td>0.0</td>\n",
       "      <td>1349</td>\n",
       "    </tr>\n",
       "    <tr>\n",
       "      <td>1.0</td>\n",
       "      <td>856</td>\n",
       "    </tr>\n",
       "  </tbody>\n",
       "</table>\n",
       "</div>"
      ],
      "text/plain": [
       "        0\n",
       "0.0  1349\n",
       "1.0   856"
      ]
     },
     "execution_count": 30,
     "metadata": {},
     "output_type": "execute_result"
    }
   ],
   "source": [
    "Y.apply(pd.value_counts)"
   ]
  },
  {
   "cell_type": "code",
   "execution_count": 48,
   "metadata": {},
   "outputs": [],
   "source": [
    "from keras.models import load_model\n",
    "model = load_model('model.h5')\n",
    "\n",
    "model.compile(optimizer='adam', loss='binary_crossentropy', metrics=['accuracy'])\n",
    "classes = model.predict_classes(X, batch_size=10)\n",
    "probability = model.predict(X,batch_size=10)"
   ]
  },
  {
   "cell_type": "code",
   "execution_count": 51,
   "metadata": {
    "scrolled": true
   },
   "outputs": [],
   "source": [
    "if there are more 1's than 0's "
   ]
  },
  {
   "cell_type": "code",
   "execution_count": 52,
   "metadata": {},
   "outputs": [],
   "source": [
    "with open('svm_model.pkl', 'rb') as f:\n",
    "    svm = pickle.load(f)\n",
    "svm_preds = svm.predict(X)\n",
    "svm_preds"
   ]
  },
  {
   "cell_type": "code",
   "execution_count": 59,
   "metadata": {},
   "outputs": [
    {
     "data": {
      "text/plain": [
       "array([0., 0., 0., ..., 0., 0., 0.])"
      ]
     },
     "execution_count": 59,
     "metadata": {},
     "output_type": "execute_result"
    }
   ],
   "source": [
    "svm_preds = svm.predict(X)\n",
    "svm_preds"
   ]
  },
  {
   "cell_type": "code",
   "execution_count": 57,
   "metadata": {},
   "outputs": [
    {
     "data": {
      "text/plain": [
       "array([[1349,    0],\n",
       "       [ 517,  339]])"
      ]
     },
     "execution_count": 57,
     "metadata": {},
     "output_type": "execute_result"
    }
   ],
   "source": [
    "confusion_matrix(Y, svm_preds)"
   ]
  },
  {
   "cell_type": "code",
   "execution_count": 64,
   "metadata": {},
   "outputs": [
    {
     "data": {
      "text/plain": [
       "array([ 202,  203,  204,  205,  206,  207,  208,  209,  210,  211,  218,\n",
       "        219,  220,  221,  222,  223,  229,  230,  231,  232,  240,  241,\n",
       "        242,  300,  301,  628,  638,  639,  640,  641,  642,  643,  644,\n",
       "        645,  646,  647,  648,  704,  705,  706,  731,  732,  733,  734,\n",
       "        735,  736,  737,  738,  739,  740,  741,  742,  743,  744,  745,\n",
       "        746,  747,  748,  752,  753,  754,  755,  789,  790,  791,  794,\n",
       "        795,  796,  909,  910,  911,  963,  964,  965, 1024, 1025, 1026,\n",
       "       1027, 1028, 1029, 1030, 1031, 1032, 1033, 1034, 1035, 1036, 1037,\n",
       "       1038, 1039, 1040, 1041, 1044, 1045, 1046, 1047, 1276, 1277, 1278,\n",
       "       1279, 1280, 1281, 1282, 1283, 1410, 1411, 1412, 1413, 1414, 1415,\n",
       "       1416, 1417, 1418, 1419, 1420, 1421, 1422, 1423, 1424, 1425, 1426,\n",
       "       1427, 1428, 1429, 1430, 1431, 1432, 1433, 1434, 1435, 1436, 1437,\n",
       "       1438, 1439, 1440, 1441, 1442, 1443, 1444, 1445, 1446, 1447, 1448,\n",
       "       1449, 1451, 1452, 1453, 1481, 1482, 1483, 1484, 1485, 1486, 1487,\n",
       "       1488, 1489, 1490, 1491, 1492, 1493, 1494, 1495, 1496, 1497, 1498,\n",
       "       1499, 1500, 1501, 1502, 1503, 1504, 1505, 1506, 1507, 1508, 1509,\n",
       "       1510, 1511, 1512, 1513, 1514, 1515, 1516, 1517, 1518, 1519, 1520,\n",
       "       1525, 1551, 1552, 1553, 1554, 1555, 1556, 1557, 1558, 1559, 1560,\n",
       "       1561, 1562, 1563, 1564, 1565, 1566, 1567, 1568, 1569, 1570, 1571,\n",
       "       1572, 1573, 1574, 1575, 1576, 1577, 1578, 1579, 1580, 1581, 1582,\n",
       "       1583, 1595, 1596, 1597, 1598, 1599, 1600, 1601, 1602, 1603, 1604,\n",
       "       1605, 1606, 1607, 1608, 1609, 1610, 1611, 1612, 1613, 1614, 1615,\n",
       "       1616, 1618, 1619, 1620, 1621, 1622, 1623, 1624, 1625, 1626, 1627,\n",
       "       1628, 1629, 1630, 1631, 1632, 1633, 1634, 1635, 1636, 1637, 1638,\n",
       "       1639, 1640, 1641, 1642, 1643, 1644, 1645, 1646, 1647, 1648, 1649,\n",
       "       1650, 1655, 1656, 1657, 1658, 1659, 1660, 1749, 1750, 1751, 1752,\n",
       "       1753, 1754, 1755, 1756, 1757, 1758, 1759, 1760, 1761, 1762, 1763,\n",
       "       1764, 1765, 1769, 1770, 1771, 1772, 1773, 1777, 1778, 1779, 1807,\n",
       "       1808, 1809, 1810, 1811, 1812, 1813, 1814, 1815, 1816, 1817, 1818,\n",
       "       1819, 1820, 1822, 1823, 1824, 1825, 1826, 1827, 1828, 1829, 1830,\n",
       "       1831, 1832, 1833, 1834, 1835, 1836, 1859, 1860, 1863, 1864, 1865,\n",
       "       1866, 1867, 1868, 1902, 1903, 1904, 1905, 1906, 1907, 1908, 1909,\n",
       "       1910, 1911, 1912, 1913, 1914, 1915, 1916, 1917, 1918, 1919, 1920,\n",
       "       1921, 1922, 1923, 1924, 1925, 1926, 1927, 1928, 1929, 1930, 1931,\n",
       "       1932, 1941, 1942, 1943, 1944, 1945, 1946, 1947, 1948, 1949, 1950,\n",
       "       1951, 1952, 1953, 1954, 1957, 1958, 1962, 1964, 1966, 1968, 1970,\n",
       "       1972, 1974, 1976, 1978, 1980, 1981, 1985, 1989, 1992, 1993, 1997,\n",
       "       2058, 2059, 2060, 2061, 2062, 2063, 2064, 2065, 2071, 2072, 2073,\n",
       "       2074, 2075, 2076, 2077, 2078, 2079, 2080, 2081, 2082, 2083, 2084,\n",
       "       2085, 2086, 2087, 2088, 2089, 2090, 2091, 2092, 2093, 2094, 2095,\n",
       "       2096, 2097, 2098, 2099, 2100, 2101, 2102, 2103, 2104, 2105, 2106,\n",
       "       2107, 2108, 2109, 2110, 2111, 2112, 2113, 2114, 2115, 2116, 2117,\n",
       "       2118, 2119, 2120, 2121, 2122, 2123, 2124, 2125, 2126, 2137, 2138,\n",
       "       2139, 2140, 2141, 2142, 2143, 2144, 2145, 2146, 2147, 2148, 2149,\n",
       "       2150, 2151, 2152, 2153, 2154, 2155, 2156, 2157, 2158, 2159, 2160,\n",
       "       2161, 2162, 2163, 2164, 2165, 2166, 2167, 2168, 2169, 2170, 2171,\n",
       "       2172])"
      ]
     },
     "execution_count": 64,
     "metadata": {},
     "output_type": "execute_result"
    }
   ],
   "source": [
    "ii = np.where(classes == 1)[0]\n",
    "ii"
   ]
  },
  {
   "cell_type": "code",
   "execution_count": 80,
   "metadata": {},
   "outputs": [],
   "source": [
    "right = np.count_nonzero(classes == 1)\n",
    "left = np.count_nonzero(classes == 0)"
   ]
  },
  {
   "cell_type": "code",
   "execution_count": 81,
   "metadata": {},
   "outputs": [
    {
     "data": {
      "text/plain": [
       "(1698, 507)"
      ]
     },
     "execution_count": 81,
     "metadata": {},
     "output_type": "execute_result"
    }
   ],
   "source": [
    "left ,right"
   ]
  },
  {
   "cell_type": "code",
   "execution_count": 84,
   "metadata": {},
   "outputs": [],
   "source": [
    "length = len(X)"
   ]
  },
  {
   "cell_type": "code",
   "execution_count": 85,
   "metadata": {},
   "outputs": [],
   "source": [
    "length = len(X)\n",
    "accuracy_left = left / length\n",
    "accuracy_right = right/length \n",
    "\n",
    "accuracy_left , accuracy_right"
   ]
  },
  {
   "cell_type": "code",
   "execution_count": 86,
   "metadata": {},
   "outputs": [
    {
     "data": {
      "text/plain": [
       "(0.7700680272108843, 0.22993197278911565)"
      ]
     },
     "execution_count": 86,
     "metadata": {},
     "output_type": "execute_result"
    }
   ],
   "source": [
    "accuracy_left , accuracy_right"
   ]
  },
  {
   "cell_type": "code",
   "execution_count": 91,
   "metadata": {},
   "outputs": [],
   "source": [
    "if accuracy_left > accuracy_right:\n",
    "    with open('direction.json' , 'w') as g:\n",
    "        json.dump('L' , g)\n",
    "else:\n",
    "        json.dump('R' , g)\n",
    "        "
   ]
  },
  {
   "cell_type": "code",
   "execution_count": null,
   "metadata": {},
   "outputs": [],
   "source": []
  }
 ],
 "metadata": {
  "kernelspec": {
   "display_name": "Python 3",
   "language": "python",
   "name": "python3"
  },
  "language_info": {
   "codemirror_mode": {
    "name": "ipython",
    "version": 3
   },
   "file_extension": ".py",
   "mimetype": "text/x-python",
   "name": "python",
   "nbconvert_exporter": "python",
   "pygments_lexer": "ipython3",
   "version": "3.7.4"
  }
 },
 "nbformat": 4,
 "nbformat_minor": 2
}
